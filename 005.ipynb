{
 "cells": [
  {
   "cell_type": "code",
   "execution_count": 9,
   "metadata": {
    "collapsed": false
   },
   "outputs": [
    {
     "name": "stdout",
     "output_type": "stream",
     "text": [
      "co sa stane\n"
     ]
    }
   ],
   "source": [
    "print(\"co sa stane\")"
   ]
  },
  {
   "cell_type": "code",
   "execution_count": null,
   "metadata": {
    "collapsed": true
   },
   "outputs": [],
   "source": [
    ""
   ]
  },
  {
   "cell_type": "code",
   "execution_count": 12,
   "metadata": {
    "collapsed": false,
    "scrolled": true
   },
   "outputs": [
    {
     "ename": "ZeroDivisionError",
     "evalue": "division by zero",
     "traceback": [
      "\u001b[0;31m---------------------------------------------------------------------------\u001b[0m",
      "\u001b[0;31mZeroDivisionError\u001b[0m                         Traceback (most recent call last)",
      "\u001b[0;32m<ipython-input-12-dbf50d74861e>\u001b[0m in \u001b[0;36m<module>\u001b[0;34m()\u001b[0m\n\u001b[1;32m      5\u001b[0m     \u001b[0mprint\u001b[0m\u001b[0;34m(\u001b[0m\u001b[0ma\u001b[0m\u001b[0;34m(\u001b[0m\u001b[0mn\u001b[0m\u001b[0;34m)\u001b[0m\u001b[0;34m)\u001b[0m\u001b[0;34m\u001b[0m\u001b[0m\n\u001b[1;32m      6\u001b[0m \u001b[0;34m\u001b[0m\u001b[0m\n\u001b[0;32m----> 7\u001b[0;31m \u001b[0mb\u001b[0m\u001b[0;34m(\u001b[0m\u001b[0;36m0\u001b[0m\u001b[0;34m)\u001b[0m\u001b[0;34m\u001b[0m\u001b[0m\n\u001b[0m",
      "\u001b[0;32m<ipython-input-12-dbf50d74861e>\u001b[0m in \u001b[0;36mb\u001b[0;34m(n)\u001b[0m\n\u001b[1;32m      3\u001b[0m \u001b[0;34m\u001b[0m\u001b[0m\n\u001b[1;32m      4\u001b[0m \u001b[0;32mdef\u001b[0m \u001b[0mb\u001b[0m\u001b[0;34m(\u001b[0m\u001b[0mn\u001b[0m\u001b[0;34m)\u001b[0m\u001b[0;34m:\u001b[0m\u001b[0;34m\u001b[0m\u001b[0m\n\u001b[0;32m----> 5\u001b[0;31m     \u001b[0mprint\u001b[0m\u001b[0;34m(\u001b[0m\u001b[0ma\u001b[0m\u001b[0;34m(\u001b[0m\u001b[0mn\u001b[0m\u001b[0;34m)\u001b[0m\u001b[0;34m)\u001b[0m\u001b[0;34m\u001b[0m\u001b[0m\n\u001b[0m\u001b[1;32m      6\u001b[0m \u001b[0;34m\u001b[0m\u001b[0m\n\u001b[1;32m      7\u001b[0m \u001b[0mb\u001b[0m\u001b[0;34m(\u001b[0m\u001b[0;36m0\u001b[0m\u001b[0;34m)\u001b[0m\u001b[0;34m\u001b[0m\u001b[0m\n",
      "\u001b[0;32m<ipython-input-12-dbf50d74861e>\u001b[0m in \u001b[0;36ma\u001b[0;34m(n)\u001b[0m\n\u001b[1;32m      1\u001b[0m \u001b[0;32mdef\u001b[0m \u001b[0ma\u001b[0m\u001b[0;34m(\u001b[0m\u001b[0mn\u001b[0m\u001b[0;34m)\u001b[0m\u001b[0;34m:\u001b[0m\u001b[0;34m\u001b[0m\u001b[0m\n\u001b[0;32m----> 2\u001b[0;31m     \u001b[0;32mreturn\u001b[0m \u001b[0;36m1\u001b[0m \u001b[0;34m/\u001b[0m \u001b[0mn\u001b[0m\u001b[0;34m\u001b[0m\u001b[0m\n\u001b[0m\u001b[1;32m      3\u001b[0m \u001b[0;34m\u001b[0m\u001b[0m\n\u001b[1;32m      4\u001b[0m \u001b[0;32mdef\u001b[0m \u001b[0mb\u001b[0m\u001b[0;34m(\u001b[0m\u001b[0mn\u001b[0m\u001b[0;34m)\u001b[0m\u001b[0;34m:\u001b[0m\u001b[0;34m\u001b[0m\u001b[0m\n\u001b[1;32m      5\u001b[0m     \u001b[0mprint\u001b[0m\u001b[0;34m(\u001b[0m\u001b[0ma\u001b[0m\u001b[0;34m(\u001b[0m\u001b[0mn\u001b[0m\u001b[0;34m)\u001b[0m\u001b[0;34m)\u001b[0m\u001b[0;34m\u001b[0m\u001b[0m\n",
      "\u001b[0;31mZeroDivisionError\u001b[0m: division by zero"
     ],
     "output_type": "error"
    }
   ],
   "source": [
    "def a(n):\n",
    "    return 1 / n\n",
    "\n",
    "def b(n):\n",
    "    print(a(n))\n",
    "\n",
    "b(0)"
   ]
  },
  {
   "cell_type": "code",
   "execution_count": 21,
   "metadata": {
    "collapsed": false
   },
   "outputs": [
    {
     "name": "stdout",
     "output_type": "stream",
     "text": [
      "zatial ok\n",
      "vynimka bola osetrena\n",
      "a mozeme pokracovat\n"
     ]
    }
   ],
   "source": [
    "def over_cislo(cislo):\n",
    "    if cislo > 0:\n",
    "        return \"ok\"\n",
    "    else:\n",
    "        raise ValueError(\"cislo musi byt vacsie ako 0\")\n",
    "        \n",
    "over_cislo(1)\n",
    "print(\"zatial ok\")\n",
    "try:\n",
    "    over_cislo(-1)\n",
    "except ValueError:\n",
    "    print(\"vynimka bola osetrena\")\n",
    "    \n",
    "print(\"a mozeme pokracovat\")"
   ]
  },
  {
   "cell_type": "code",
   "execution_count": 19,
   "metadata": {
    "collapsed": false
   },
   "outputs": [
    {
     "name": "stdout",
     "output_type": "stream",
     "text": [
      "zadej cislo aa\n",
      "to neni cislo\n"
     ]
    }
   ],
   "source": [
    "try:\n",
    "    cislo = int(input(\"zadej cislo \"))\n",
    "except ValueError:\n",
    "    print(\"to neni cislo\")"
   ]
  },
  {
   "cell_type": "code",
   "execution_count": 24,
   "metadata": {
    "collapsed": false
   },
   "outputs": [
    {
     "name": "stdout",
     "output_type": "stream",
     "text": [
      "zadej cislo a\n",
      "to neni cislo\n",
      "zadej cislo c\n",
      "to neni cislo\n",
      "zadej cislo d\n",
      "to neni cislo\n",
      "zadej cislo 3\n",
      "cislo je 3\n"
     ]
    }
   ],
   "source": [
    "while True:\n",
    "    try:\n",
    "        cislo = int(input(\"zadej cislo \"))\n",
    "        print(\"dalsie\")\n",
    "        print(\"a este dalsie\")\n",
    "    except ValueError:\n",
    "        print(\"to neni cislo\")\n",
    "    else:\n",
    "        break\n",
    "    finally:\n",
    "        print(\"vzdy\")\n",
    "\n",
    "        \n",
    "print(\"cislo je {}\".format(cislo))"
   ]
  },
  {
   "cell_type": "code",
   "execution_count": 25,
   "metadata": {
    "collapsed": false
   },
   "outputs": [
    {
     "name": "stdout",
     "output_type": "stream",
     "text": [
      "0\n",
      "1\n",
      "2\n",
      "else\n"
     ]
    }
   ],
   "source": [
    "for i in range(3):\n",
    "    print(i)\n",
    "else:\n",
    "    print(\"else\")"
   ]
  },
  {
   "cell_type": "code",
   "execution_count": 26,
   "metadata": {
    "collapsed": false
   },
   "outputs": [
    {
     "name": "stdout",
     "output_type": "stream",
     "text": [
      "0\n"
     ]
    }
   ],
   "source": [
    "for i in range(3):\n",
    "    print(i)\n",
    "    break\n",
    "else:\n",
    "    print(\"else\")"
   ]
  },
  {
   "cell_type": "code",
   "execution_count": 27,
   "metadata": {
    "collapsed": false
   },
   "outputs": [
    {
     "name": "stdout",
     "output_type": "stream",
     "text": [
      "3.141592653589793\n"
     ]
    }
   ],
   "source": [
    "from math import pi\n",
    "\n",
    "print(pi)"
   ]
  },
  {
   "cell_type": "code",
   "execution_count": 32,
   "metadata": {
    "collapsed": false
   },
   "outputs": [
    {
     "name": "stdout",
     "output_type": "stream",
     "text": [
      "Overwriting muj_modul.py\n"
     ]
    }
   ],
   "source": [
    "def a():\n",
    "    print(\"hello world\")"
   ]
  },
  {
   "cell_type": "code",
   "execution_count": 34,
   "metadata": {
    "collapsed": false
   },
   "outputs": [
    {
     "name": "stdout",
     "output_type": "stream",
     "text": [
      "hello world\n"
     ]
    }
   ],
   "source": [
    "from muj_modul import a\n",
    "\n",
    "a()"
   ]
  },
  {
   "cell_type": "code",
   "execution_count": 30,
   "metadata": {
    "collapsed": false
   },
   "outputs": [
    {
     "name": "stdout",
     "output_type": "stream",
     "text": [
      "hello world\n"
     ]
    }
   ],
   "source": [
    "import muj_modul\n",
    "\n",
    "muj_modul.a()"
   ]
  },
  {
   "cell_type": "code",
   "execution_count": 31,
   "metadata": {
    "collapsed": false
   },
   "outputs": [
    {
     "name": "stdout",
     "output_type": "stream",
     "text": [
      "hello world\n"
     ]
    }
   ],
   "source": [
    "import muj_modul as mm\n",
    "\n",
    "mm.a()"
   ]
  },
  {
   "cell_type": "code",
   "execution_count": null,
   "metadata": {
    "collapsed": true
   },
   "outputs": [],
   "source": [
    ""
   ]
  },
  {
   "cell_type": "code",
   "execution_count": null,
   "metadata": {
    "collapsed": true
   },
   "outputs": [],
   "source": [
    "(venv)$ python -m pip install pytest"
   ]
  },
  {
   "cell_type": "code",
   "execution_count": 55,
   "metadata": {
    "collapsed": false
   },
   "outputs": [
    {
     "name": "stdout",
     "output_type": "stream",
     "text": [
      "Overwriting test_zkouska.py\n"
     ]
    }
   ],
   "source": [
    "%%writefile test_zkouska.py\n",
    "\n",
    "\n",
    "import pytest\n",
    "\n",
    "def secti(a, b):\n",
    "    if (isinstance(a, (int, float, complex)) and\n",
    "        isinstance(b, (int, float, complex))):\n",
    "        return a + b\n",
    "    else:\n",
    "        raise TypeError(\"nie je cele cislo\")\n",
    "\n",
    "def test_secti():\n",
    "    assert secti(1, 3) == 4\n",
    "    assert secti(1, 2) == 3\n",
    "    assert secti(1.5, 3.5) == 5\n",
    "    assert secti(-1, -3) == -4\n",
    "    with pytest.raises(TypeError):\n",
    "         secti(\"a\", \"b\")\n",
    "#     try:\n",
    "#         secti(\"a\", \"b\")\n",
    "#     except TypeError:\n",
    "#         assert True\n",
    "#     else:\n",
    "#         assert False"
   ]
  },
  {
   "cell_type": "code",
   "execution_count": 51,
   "metadata": {
    "collapsed": false
   },
   "outputs": [
    {
     "name": "stdout",
     "output_type": "stream",
     "text": [
      "\u001b[1m============================= test session starts ==============================\u001b[0m\n",
      "platform darwin -- Python 3.5.2, pytest-2.8.1, py-1.4.30, pluggy-0.3.1 -- /Users/hozak/anaconda/bin/python\n",
      "cachedir: .cache\n",
      "rootdir: /Users/hozak/git/pyladies_ulohy, inifile: \n",
      "collected 7 items \n",
      "\u001b[0m\n",
      "test_dummy.py::test_101 \u001b[32mPASSED\u001b[0m\n",
      "test_zkouska.py::test_secti \u001b[31mFAILED\u001b[0m\n",
      "piskvorky_solution/test_piskvorky.py::test_vyhodnot \u001b[32mPASSED\u001b[0m\n",
      "piskvorky_solution/test_piskvorky.py::test_tah \u001b[32mPASSED\u001b[0m\n",
      "piskvorky_solution/test_piskvorky.py::test_tah_hrace \u001b[32mPASSED\u001b[0m\n",
      "piskvorky_solution/test_piskvorky.py::test_tah_hrace_pre_pokrocilych \u001b[32mPASSED\u001b[0m\n",
      "piskvorky_solution/test_piskvorky.py::test_tah_pocitace \u001b[32mPASSED\u001b[0m\n",
      "\n",
      "=================================== FAILURES ===================================\n",
      "__________________________________ test_secti __________________________________\n",
      "\n",
      "\u001b[1m    def test_secti():\u001b[0m\n",
      "\u001b[1m        assert secti(1, 3) == 4\u001b[0m\n",
      "\u001b[1m        assert secti(1, 2) == 3\u001b[0m\n",
      "\u001b[1m        assert secti(1.5, 3.5) == 5\u001b[0m\n",
      "\u001b[1m        assert secti(-1, -3) == -4\u001b[0m\n",
      "\u001b[1m        with pytest.raises(TypeError):\u001b[0m\n",
      "\u001b[1m>            secti(\"a\", \"b\")\u001b[0m\n",
      "\u001b[1m\u001b[31mE            Failed: DID NOT RAISE\u001b[0m\n",
      "\n",
      "test_zkouska.py:14: Failed\n",
      "\u001b[1m\u001b[31m====================== 1 failed, 6 passed in 0.02 seconds ======================\u001b[0m\n"
     ]
    }
   ],
   "source": [
    "! python -m pytest -v"
   ]
  },
  {
   "cell_type": "code",
   "execution_count": null,
   "metadata": {
    "collapsed": true
   },
   "outputs": [],
   "source": [
    "if \"xxx\" in \"------xxx------\":"
   ]
  },
  {
   "cell_type": "code",
   "execution_count": 57,
   "metadata": {
    "collapsed": false
   },
   "outputs": [
    {
     "data": {
      "text/plain": [
       "6"
      ]
     },
     "execution_count": 57,
     "metadata": {},
     "output_type": "execute_result"
    }
   ],
   "source": [
    "max([2, 5, 6])"
   ]
  },
  {
   "cell_type": "code",
   "execution_count": null,
   "metadata": {
    "collapsed": true
   },
   "outputs": [],
   "source": [
    ""
   ]
  },
  {
   "cell_type": "code",
   "execution_count": null,
   "metadata": {
    "collapsed": true
   },
   "outputs": [],
   "source": [
    ""
   ]
  },
  {
   "cell_type": "code",
   "execution_count": null,
   "metadata": {
    "collapsed": true
   },
   "outputs": [],
   "source": [
    ""
   ]
  },
  {
   "cell_type": "code",
   "execution_count": null,
   "metadata": {
    "collapsed": true
   },
   "outputs": [],
   "source": [
    ""
   ]
  },
  {
   "cell_type": "code",
   "execution_count": null,
   "metadata": {
    "collapsed": true
   },
   "outputs": [],
   "source": [
    ""
   ]
  }
 ],
 "metadata": {
  "kernelspec": {
   "display_name": "Python 3",
   "language": "python",
   "name": "python3"
  },
  "language_info": {
   "codemirror_mode": {
    "name": "ipython",
    "version": 3.0
   },
   "file_extension": ".py",
   "mimetype": "text/x-python",
   "name": "python",
   "nbconvert_exporter": "python",
   "pygments_lexer": "ipython3",
   "version": "3.5.2"
  }
 },
 "nbformat": 4,
 "nbformat_minor": 0
}