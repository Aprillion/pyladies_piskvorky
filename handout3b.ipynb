{
 "cells": [
  {
   "cell_type": "markdown",
   "metadata": {
    "collapsed": true
   },
   "source": [
    "# Domaci projety 4\n",
    "http://pyladies.cz/v1/s003-looping/handout/handout3b.pdf"
   ]
  },
  {
   "cell_type": "markdown",
   "metadata": {},
   "source": [
    "## Ulohy 0. az 4."
   ]
  },
  {
   "cell_type": "code",
   "execution_count": 19,
   "metadata": {
    "collapsed": false
   },
   "outputs": [
    {
     "name": "stdout",
     "output_type": "stream",
     "text": [
      "1 a bbb\n"
     ]
    }
   ],
   "source": [
    "b = 'bbb'\n",
    "print(1, 'a', b)"
   ]
  },
  {
   "cell_type": "code",
   "execution_count": 20,
   "metadata": {
    "collapsed": false
   },
   "outputs": [
    {
     "name": "stdout",
     "output_type": "stream",
     "text": [
      "1 a bbb\n",
      "None\n"
     ]
    }
   ],
   "source": [
    "a = print(1, 'a', b)\n",
    "print(a)"
   ]
  },
  {
   "cell_type": "code",
   "execution_count": 23,
   "metadata": {
    "collapsed": false
   },
   "outputs": [
    {
     "name": "stdout",
     "output_type": "stream",
     "text": [
      "1 a bbb; 1 a bbb\n",
      "\n",
      "\n",
      "END1\n"
     ]
    }
   ],
   "source": [
    "print(1, 'a', b, end='; ')\n",
    "print(1, 'a', b, end='\\n\\n\\nEND')\n",
    "print(1)"
   ]
  },
  {
   "cell_type": "code",
   "execution_count": 22,
   "metadata": {
    "collapsed": false
   },
   "outputs": [
    {
     "name": "stdout",
     "output_type": "stream",
     "text": [
      "1---a---bbb\n",
      "1---a---bbbEND"
     ]
    }
   ],
   "source": [
    "print(1, 'a', b, sep='---')\n",
    "print(1, 'a', b, sep='---', end=\"END\")"
   ]
  },
  {
   "cell_type": "code",
   "execution_count": 24,
   "metadata": {
    "collapsed": false
   },
   "outputs": [
    {
     "ename": "ValueError",
     "evalue": "invalid literal for int() with base 10: 'blabla'",
     "output_type": "error",
     "traceback": [
      "\u001b[0;31m---------------------------------------------------------------------------\u001b[0m",
      "\u001b[0;31mValueError\u001b[0m                                Traceback (most recent call last)",
      "\u001b[0;32m<ipython-input-24-47eb65e90060>\u001b[0m in \u001b[0;36m<module>\u001b[0;34m()\u001b[0m\n\u001b[0;32m----> 1\u001b[0;31m \u001b[0mint\u001b[0m\u001b[0;34m(\u001b[0m\u001b[0;34m'blabla'\u001b[0m\u001b[0;34m)\u001b[0m\u001b[0;34m\u001b[0m\u001b[0m\n\u001b[0m",
      "\u001b[0;31mValueError\u001b[0m: invalid literal for int() with base 10: 'blabla'"
     ]
    }
   ],
   "source": [
    "int('blabla')"
   ]
  },
  {
   "cell_type": "code",
   "execution_count": 25,
   "metadata": {
    "collapsed": false
   },
   "outputs": [
    {
     "ename": "ValueError",
     "evalue": "could not convert string to float: 'blabla'",
     "output_type": "error",
     "traceback": [
      "\u001b[0;31m---------------------------------------------------------------------------\u001b[0m",
      "\u001b[0;31mValueError\u001b[0m                                Traceback (most recent call last)",
      "\u001b[0;32m<ipython-input-25-dd8864ded26e>\u001b[0m in \u001b[0;36m<module>\u001b[0;34m()\u001b[0m\n\u001b[0;32m----> 1\u001b[0;31m \u001b[0mfloat\u001b[0m\u001b[0;34m(\u001b[0m\u001b[0;34m'blabla'\u001b[0m\u001b[0;34m)\u001b[0m\u001b[0;34m\u001b[0m\u001b[0m\n\u001b[0m",
      "\u001b[0;31mValueError\u001b[0m: could not convert string to float: 'blabla'"
     ]
    }
   ],
   "source": [
    "float('blabla')"
   ]
  },
  {
   "cell_type": "code",
   "execution_count": 26,
   "metadata": {
    "collapsed": false
   },
   "outputs": [
    {
     "ename": "ValueError",
     "evalue": "invalid literal for int() with base 10: '8.9'",
     "output_type": "error",
     "traceback": [
      "\u001b[0;31m---------------------------------------------------------------------------\u001b[0m",
      "\u001b[0;31mValueError\u001b[0m                                Traceback (most recent call last)",
      "\u001b[0;32m<ipython-input-26-34e6fdd40e3b>\u001b[0m in \u001b[0;36m<module>\u001b[0;34m()\u001b[0m\n\u001b[0;32m----> 1\u001b[0;31m \u001b[0mint\u001b[0m\u001b[0;34m(\u001b[0m\u001b[0;34m'8.9'\u001b[0m\u001b[0;34m)\u001b[0m\u001b[0;34m\u001b[0m\u001b[0m\n\u001b[0m",
      "\u001b[0;31mValueError\u001b[0m: invalid literal for int() with base 10: '8.9'"
     ]
    }
   ],
   "source": [
    "int('8.9')"
   ]
  },
  {
   "cell_type": "code",
   "execution_count": 27,
   "metadata": {
    "collapsed": false
   },
   "outputs": [
    {
     "data": {
      "text/plain": [
       "8"
      ]
     },
     "execution_count": 27,
     "metadata": {},
     "output_type": "execute_result"
    }
   ],
   "source": [
    "int(8.9)"
   ]
  },
  {
   "cell_type": "markdown",
   "metadata": {},
   "source": [
    "## Ulohy 5. az 14."
   ]
  },
  {
   "cell_type": "code",
   "execution_count": 28,
   "metadata": {
    "collapsed": false
   },
   "outputs": [
    {
     "name": "stdout",
     "output_type": "stream",
     "text": [
      "a\n",
      "a\n",
      "a\n",
      "a\n"
     ]
    }
   ],
   "source": [
    "# 5.\n",
    "for i in range(4):\n",
    "    print('a')"
   ]
  },
  {
   "cell_type": "code",
   "execution_count": 69,
   "metadata": {
    "collapsed": false
   },
   "outputs": [
    {
     "name": "stdout",
     "output_type": "stream",
     "text": [
      "On branch master\r\n",
      "Your branch is ahead of 'origin/master' by 3 commits.\r\n",
      "  (use \"git push\" to publish your local commits)\r\n",
      "Changes not staged for commit:\r\n",
      "  (use \"git add <file>...\" to update what will be committed)\r\n",
      "  (use \"git checkout -- <file>...\" to discard changes in working directory)\r\n",
      "\r\n",
      "\t\u001b[31mmodified:   handout3b.ipynb\u001b[m\r\n",
      "\r\n",
      "no changes added to commit (use \"git add\" and/or \"git commit -a\")\r\n"
     ]
    }
   ],
   "source": [
    "! git status"
   ]
  },
  {
   "cell_type": "code",
   "execution_count": 72,
   "metadata": {
    "collapsed": false
   },
   "outputs": [],
   "source": [
    "! git add ."
   ]
  },
  {
   "cell_type": "code",
   "execution_count": 37,
   "metadata": {
    "collapsed": false,
    "scrolled": true
   },
   "outputs": [
    {
     "name": "stdout",
     "output_type": "stream",
     "text": [
      "[master fc57acb] vytvor handout3b.ipynb pre domace projekty 4, vyriesene ulohy 1-5\r\n",
      " 3 files changed, 284 insertions(+), 4 deletions(-)\r\n",
      " create mode 100644 handout3b.ipynb\r\n"
     ]
    }
   ],
   "source": [
    "! git commit -m \"vytvor handout3b.ipynb pre domace projekty 4, vyriesene ulohy 1-5\""
   ]
  },
  {
   "cell_type": "code",
   "execution_count": 39,
   "metadata": {
    "collapsed": false
   },
   "outputs": [
    {
     "name": "stdout",
     "output_type": "stream",
     "text": [
      "Riadok 0\n",
      "Riadok 1\n",
      "Riadok 2\n",
      "Riadok 3\n",
      "Riadok 4\n"
     ]
    }
   ],
   "source": [
    "# 6.\n",
    "for i in range(5):\n",
    "    print(\"Riadok {}\".format(i))"
   ]
  },
  {
   "cell_type": "code",
   "execution_count": 42,
   "metadata": {
    "collapsed": false
   },
   "outputs": [
    {
     "name": "stdout",
     "output_type": "stream",
     "text": [
      "Riadok 0\n",
      "Riadok 1\n",
      "Riadok 2\n",
      "Riadok 3\n",
      "Riadok 4\n"
     ]
    }
   ],
   "source": [
    "# 7.\n",
    "for cislo_radku in range(5):\n",
    "    print(\"Riadok {}\".format(cislo_radku))"
   ]
  },
  {
   "cell_type": "code",
   "execution_count": 49,
   "metadata": {
    "collapsed": false
   },
   "outputs": [
    {
     "name": "stdout",
     "output_type": "stream",
     "text": [
      "0 na druhou je 0\n",
      "1 na druhou je 1\n",
      "2 na druhou je 4\n",
      "3 na druhou je 9\n",
      "4 na druhou je 16\n"
     ]
    }
   ],
   "source": [
    "# 8.\n",
    "for i in range(5):\n",
    "    print(\"{} na druhou je {}\".format(i, i**2))"
   ]
  },
  {
   "cell_type": "code",
   "execution_count": 53,
   "metadata": {
    "collapsed": false
   },
   "outputs": [
    {
     "name": "stdout",
     "output_type": "stream",
     "text": [
      "0 na druhou neni 2\n",
      "1 na druhou neni 3\n",
      "2 na druhou neni 0\n",
      "3 na druhou neni 1\n",
      "4 na druhou neni 6\n"
     ]
    }
   ],
   "source": [
    "# 8. pozor na ^ (bitwise XOR)\n",
    "for i in range(5):\n",
    "    print(\"{} na druhou neni {}\".format(i, i^2))"
   ]
  },
  {
   "cell_type": "code",
   "execution_count": 54,
   "metadata": {
    "collapsed": false
   },
   "outputs": [
    {
     "name": "stdout",
     "output_type": "stream",
     "text": [
      "X X X X X \n",
      "X X X X X \n",
      "X X X X X \n",
      "X X X X X \n",
      "X X X X X \n"
     ]
    }
   ],
   "source": [
    "# 9.\n",
    "for row in range(5):\n",
    "    for col in range(5):\n",
    "        print(\"X\", end=\" \")\n",
    "    print()"
   ]
  },
  {
   "cell_type": "code",
   "execution_count": 59,
   "metadata": {
    "collapsed": false
   },
   "outputs": [
    {
     "name": "stdout",
     "output_type": "stream",
     "text": [
      "0 0 0 0 0 \n",
      "0 1 2 3 4 \n",
      "0 2 4 6 8 \n",
      "0 3 6 9 12 \n",
      "0 4 8 12 16 \n"
     ]
    }
   ],
   "source": [
    "# 10.\n",
    "for row in range(5):\n",
    "    for col in range(5):\n",
    "        print(row * col, end=\" \")\n",
    "    print()"
   ]
  },
  {
   "cell_type": "code",
   "execution_count": 55,
   "metadata": {
    "collapsed": false
   },
   "outputs": [
    {
     "name": "stdout",
     "output_type": "stream",
     "text": [
      "[master 7fd81d0] vyriesene ulohy 6-11\n",
      " 1 file changed, 95 insertions(+), 3 deletions(-)\n"
     ]
    }
   ],
   "source": [
    "! git commit -am \"vyriesene ulohy 6-11\""
   ]
  },
  {
   "cell_type": "code",
   "execution_count": 57,
   "metadata": {
    "collapsed": false
   },
   "outputs": [
    {
     "name": "stdout",
     "output_type": "stream",
     "text": [
      "[master 22a5930] vyriesene ulohy 6-10\r\n",
      " Date: Wed Nov 2 15:07:47 2016 +0100\r\n",
      " 1 file changed, 95 insertions(+), 3 deletions(-)\r\n"
     ]
    }
   ],
   "source": [
    "! git commit --amend -m \"vyriesene ulohy 6-10\""
   ]
  },
  {
   "cell_type": "code",
   "execution_count": 60,
   "metadata": {
    "collapsed": false
   },
   "outputs": [
    {
     "name": "stdout",
     "output_type": "stream",
     "text": [
      "X \n",
      "X X \n",
      "X X X \n",
      "X X X X \n"
     ]
    }
   ],
   "source": [
    "# 11.\n",
    "for row in range(4):\n",
    "    for col in range(row + 1):\n",
    "        print(\"X\", end=\" \")\n",
    "    print()"
   ]
  },
  {
   "cell_type": "code",
   "execution_count": 61,
   "metadata": {
    "collapsed": false
   },
   "outputs": [
    {
     "name": "stdout",
     "output_type": "stream",
     "text": [
      "prvni radek\n",
      "neni prvni\n",
      "neni prvni\n",
      "neni prvni\n"
     ]
    }
   ],
   "source": [
    "# 12.\n",
    "for row in range(4):\n",
    "    if row == 0:\n",
    "        print(\"prvni radek\")\n",
    "    else:\n",
    "        print(\"neni prvni\")"
   ]
  },
  {
   "cell_type": "code",
   "execution_count": 82,
   "metadata": {
    "collapsed": false
   },
   "outputs": [
    {
     "name": "stdout",
     "output_type": "stream",
     "text": [
      "X X X X X X \n",
      "X         X \n",
      "X         X \n",
      "X         X \n",
      "X X X X X X \n"
     ]
    }
   ],
   "source": [
    "# 13.\n",
    "row_max = 5\n",
    "col_max = 6\n",
    "for row in range(row_max):\n",
    "    for col in range (col_max):\n",
    "        if (row == 0 or\n",
    "            row == row_max - 1 or\n",
    "            col == 0 or\n",
    "            col == col_max - 1):\n",
    "            print(\"X\", end=\" \")\n",
    "        else:\n",
    "            print(\" \", end=\" \")\n",
    "    print()"
   ]
  },
  {
   "cell_type": "code",
   "execution_count": 73,
   "metadata": {
    "collapsed": false
   },
   "outputs": [
    {
     "name": "stdout",
     "output_type": "stream",
     "text": [
      "[master 80b2a71] vyriesene ulohy 11-13\r\n",
      " 1 file changed, 258 insertions(+), 18 deletions(-)\r\n"
     ]
    }
   ],
   "source": [
    "! git commit -am \"vyriesene ulohy 11-13\""
   ]
  },
  {
   "cell_type": "code",
   "execution_count": 79,
   "metadata": {
    "collapsed": false
   },
   "outputs": [
    {
     "name": "stdout",
     "output_type": "stream",
     "text": [
      "[master fc5e58a] uprav ulohu 13 do podoby 14\r\n",
      " 1 file changed, 71 insertions(+), 31 deletions(-)\r\n"
     ]
    }
   ],
   "source": [
    "! git commit -am \"uprav ulohu 13 do podoby 14\""
   ]
  },
  {
   "cell_type": "code",
   "execution_count": null,
   "metadata": {
    "collapsed": false
   },
   "outputs": [],
   "source": [
    "# 14.\n",
    "while True:\n",
    "    try:\n",
    "        row_max = int(input(\"Zadaj pocet radku: \"))\n",
    "        break\n",
    "    except ValueError:\n",
    "        print(\"Nevalidni cislo!\")\n",
    "while True:\n",
    "    try:\n",
    "        col_max = int(input(\"Zadej pocet sloupcu: \"))\n",
    "        break\n",
    "    except ValueError:\n",
    "        print(\"Nevalidni cislo!\")\n",
    "for row in range(row_max):\n",
    "    for col in range (col_max):\n",
    "        if (row == 0 or\n",
    "            row == row_max - 1 or\n",
    "            col == 0 or\n",
    "            col == col_max - 1):\n",
    "            print(\"X\", end=\" \")\n",
    "        else:\n",
    "            print(\" \", end=\" \")\n",
    "    print()"
   ]
  },
  {
   "cell_type": "code",
   "execution_count": null,
   "metadata": {
    "collapsed": true
   },
   "outputs": [],
   "source": [
    "! git commit -am \"rozdel ulohy 13 a 14\""
   ]
  }
 ],
 "metadata": {
  "kernelspec": {
   "display_name": "Python 3",
   "language": "python",
   "name": "python3"
  },
  "language_info": {
   "codemirror_mode": {
    "name": "ipython",
    "version": 3
   },
   "file_extension": ".py",
   "mimetype": "text/x-python",
   "name": "python",
   "nbconvert_exporter": "python",
   "pygments_lexer": "ipython3",
   "version": "3.5.1"
  }
 },
 "nbformat": 4,
 "nbformat_minor": 0
}
